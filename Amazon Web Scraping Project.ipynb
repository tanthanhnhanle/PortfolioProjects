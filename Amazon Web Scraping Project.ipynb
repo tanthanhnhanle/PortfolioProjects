{
 "cells": [
  {
   "cell_type": "markdown",
   "id": "6596108c-6327-4cfc-96aa-c5259d01e925",
   "metadata": {},
   "source": [
    "# Amazon Headphone Web Scraping"
   ]
  },
  {
   "cell_type": "code",
   "execution_count": 101,
   "id": "d731723a-e7e0-49e5-bad2-f35793cc203d",
   "metadata": {},
   "outputs": [],
   "source": [
    "# import libraries\n",
    "\n",
    "from bs4 import BeautifulSoup\n",
    "import requests\n",
    "import smtplib\n",
    "import time\n",
    "import datetime\n",
    "import csv\n",
    "import pandas as pd"
   ]
  },
  {
   "cell_type": "code",
   "execution_count": 105,
   "id": "ce70e4ef-6caa-4c42-936e-9d6781544187",
   "metadata": {},
   "outputs": [],
   "source": [
    "# Create CSV and write headers and data into the file\n",
    "\n",
    "header = ['Title', 'Price', 'Review', 'Date']\n",
    "\n",
    "data = [title, price, review, today]\n",
    "\n",
    "#with open('AmazonHeadphones.csv', 'w', newline='', encoding='UTF8') as f:\n",
    "    #writer = csv.writer(f)\n",
    "    #writer.writerow(header)\n",
    "    #writer.writerow(data)\n",
    "    "
   ]
  },
  {
   "cell_type": "code",
   "execution_count": 107,
   "id": "a22628ea-f032-4e75-bf78-964441bebb79",
   "metadata": {},
   "outputs": [],
   "source": [
    "def check_price():\n",
    "    # Connect to the Website and pull in data\n",
    "    URL = 'https://www.amazon.com/Bose-QuietComfort-Wireless-Cancelling-Headphones/dp/B0CCZ1L489/?_encoding=UTF8&pd_rd_w=JgHxJ&content-id=amzn1.sym.3a9105c3-5c23-4606-a1b8-e2798f4bd814%3Aamzn1.symc.8b620bc3-61d8-46b3-abd9-110539785634&pf_rd_p=3a9105c3-5c23-4606-a1b8-e2798f4bd814&pf_rd_r=47BFQKTVYH59S002HX38&pd_rd_wg=28OlA&pd_rd_r=99599153-7843-4acf-b536-4e8dc6793ad5&ref_=pd_hp_d_btf_ci_mcx_mr_hp_d&th=1'\n",
    "    \n",
    "    headers = {\"User-Agent\": \"Mozilla/5.0 (Windows NT 10.0; Win64; x64) AppleWebKit/537.36 (KHTML, like Gecko) Chrome/78.0.3904.108 Safari/537.36\", \"Accept-Encoding\":\"gzip, deflate\", \"Accept\":\"text/html,application/xhtml+xml,application/xml;q=0.9,*/*;q=0.8\", \"DNT\":\"1\",\"Connection\":\"close\", \"Upgrade-Insecure-Requests\":\"1\"}\n",
    "    \n",
    "    page = requests.get(URL, headers=headers)\n",
    "    \n",
    "    soup1 = BeautifulSoup(page.content, \"html.parser\")\n",
    "    \n",
    "    soup2 = BeautifulSoup(soup1.prettify(), \"html.parser\")\n",
    "    \n",
    "    title = soup2.find(id='productTitle').get_text()\n",
    "    \n",
    "    price = soup2.find(class_ = 'aok-offscreen').get_text()\n",
    "    \n",
    "    review = soup2.find(class_ = 'a-icon-alt').get_text()\n",
    "\n",
    "    # Strip the spaces in the data\n",
    "    price = price.strip()[1:]\n",
    "    title = title.strip()\n",
    "    review = review.strip()\n",
    "    \n",
    "    # Create a Timestamp for your output to track when data was collected\n",
    "    today = datetime.date.today()\n",
    "\n",
    "    # Create CSV and write headers and data into the file\n",
    "    header = ['Title', 'Price', 'Review', 'Date']\n",
    "    data = [title, price, review, today]\n",
    "\n",
    "    # Appending data to the csv\n",
    "    with open('AmazonHeadphones.csv', 'a+', newline='', encoding='UTF8') as f:\n",
    "        writer = csv.writer(f)\n",
    "        writer.writerow(data)\n",
    "\n",
    "    if price == '200':\n",
    "        send_email()"
   ]
  },
  {
   "cell_type": "code",
   "execution_count": null,
   "id": "a5264981-fcfe-4dc9-80d3-a59851a6361b",
   "metadata": {},
   "outputs": [],
   "source": [
    "# Run a check price every one day\n",
    "while(True):\n",
    "    check_price()\n",
    "    time.sleep(84600)\n",
    "print('Run successfully')\n",
    "\n",
    "df = pd.read_csv(r\"C:\\Users\\nhanl\\Python\\Tutorials\\Pandas\\AmazonHeadphones.csv\")\n",
    "\n",
    "df"
   ]
  },
  {
   "cell_type": "code",
   "execution_count": 93,
   "id": "d2270c76-d5ca-4081-8cc6-9d3026e3d7f5",
   "metadata": {},
   "outputs": [],
   "source": [
    "# Fxn to help send out an notification email\n",
    "\n",
    "def send_email():\n",
    "    server = smtplib.SMTP_SSL('smtp.gmail.com',465)\n",
    "    server.ehlo()\n",
    "    #server.starttls()\n",
    "    server.ehlo()\n",
    "    server.login('youremail@gmail.com','yourpassword')\n",
    "    \n",
    "    subject = \"The Bose you want is below $200! Now is your chance to buy!\"\n",
    "    body = \"This is the moment we have been waiting for. Now is your chance to pick up the headphone of your dreams. Don't mess it up! Link here: https://www.amazon.com/Bose-QuietComfort-Wireless-Cancelling-Headphones/dp/B0CCZ1L489/?_encoding=UTF8&pd_rd_w=JgHxJ&content-id=amzn1.sym.3a9105c3-5c23-4606-a1b8-e2798f4bd814%3Aamzn1.symc.8b620bc3-61d8-46b3-abd9-110539785634&pf_rd_p=3a9105c3-5c23-4606-a1b8-e2798f4bd814&pf_rd_r=47BFQKTVYH59S002HX38&pd_rd_wg=28OlA&pd_rd_r=99599153-7843-4acf-b536-4e8dc6793ad5&ref_=pd_hp_d_btf_ci_mcx_mr_hp_d&th=1\"\n",
    "   \n",
    "    msg = f\"Subject: {subject}\\n\\n{body}\"\n",
    "    \n",
    "    server.sendmail(\n",
    "        'Your email',\n",
    "        msg\n",
    "    )"
   ]
  },
  {
   "cell_type": "code",
   "execution_count": null,
   "id": "1cb2f6ea-d54e-439f-95a8-1922d784070e",
   "metadata": {},
   "outputs": [],
   "source": []
  },
  {
   "cell_type": "code",
   "execution_count": null,
   "id": "e4f662b4-2b79-4972-a40c-ab7d6b6ba580",
   "metadata": {},
   "outputs": [],
   "source": []
  }
 ],
 "metadata": {
  "kernelspec": {
   "display_name": "Python 3 (ipykernel)",
   "language": "python",
   "name": "python3"
  },
  "language_info": {
   "codemirror_mode": {
    "name": "ipython",
    "version": 3
   },
   "file_extension": ".py",
   "mimetype": "text/x-python",
   "name": "python",
   "nbconvert_exporter": "python",
   "pygments_lexer": "ipython3",
   "version": "3.12.4"
  }
 },
 "nbformat": 4,
 "nbformat_minor": 5
}
